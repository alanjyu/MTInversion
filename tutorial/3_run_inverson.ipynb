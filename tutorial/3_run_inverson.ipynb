{
 "cells": [
  {
   "attachments": {},
   "cell_type": "markdown",
   "metadata": {},
   "source": [
    "## Moment Tensor Inversion using `MTtime`\n",
    "\n",
    "Now we can start the inversion using the input file we created. Let's take a look at `mtinv.in`.\n"
   ]
  },
  {
   "cell_type": "code",
   "execution_count": 3,
   "metadata": {},
   "outputs": [
    {
     "name": "stdout",
     "output_type": "stream",
     "text": [
      "       event: {'datetime': '2019-07-16T20:11:01.470000Z', 'longitude': -121.7568, 'latitude': 37.8187}\n",
      "       depth: [10.0, 12.0, 20.0]\n",
      "       green: herrmann\n",
      "  components: ['Z', 'R', 'T']\n",
      "      degree: 5\n",
      "      weight: distance\n",
      "        plot: False\n",
      "   correlate: False\n",
      "\n",
      "| STATION TABLE |\n",
      "   station  distance  azimuth  ts  npts   dt  Z  R  T  longitude  latitude\n",
      "BK.QRDG.00     80.99   335.29  30   150 1.00  1  1  1    -122.14     38.48\n",
      "BK.RUSS.00     81.16   353.18  30   150 1.00  1  1  1    -121.87     38.54\n",
      " BK.CVS.00     84.88   313.73  30   150 1.00  1  1  1    -122.46     38.35\n",
      "BK.OAKV.00     88.89   320.02  30   150 1.00  1  1  1    -122.41     38.43\n",
      "BK.MCCM.00    105.12   290.48  30   150 1.00  1  1  1    -122.88     38.14\n",
      "BK.FARB.00    110.46   263.41  30   150 1.00  1  1  1    -123.00     37.70\n",
      "BK.WELL.00    113.71    52.46  30   150 1.00  1  1  1    -120.72     38.44\n",
      " BK.SAO.00    120.23   166.71  30   150 1.00  1  1  1    -121.45     36.76\n",
      " BK.CMB.00    122.83    78.33  30   150 1.00  1  1  1    -120.39     38.03\n",
      "BK.MNRC.00    132.06   333.21  30   150 1.00  1  1  1    -122.44     38.88\n",
      " BK.SCZ.00    139.07   166.84  30   150 1.00  1  1  1    -121.40     36.60\n",
      "BK.BUCR.00    142.56    96.01  30   150 1.00  1  1  1    -120.15     37.67\n"
     ]
    }
   ],
   "source": [
    "import mttime\n",
    "\n",
    "# call the Configure object to read the input file and set up the inversion\n",
    "config = mttime.Configure(path_to_file=\"mtinv.in\")\n",
    "\n",
    "# Quick look at the attributes\n",
    "print(config)"
   ]
  },
  {
   "cell_type": "code",
   "execution_count": 4,
   "metadata": {},
   "outputs": [
    {
     "ename": "FileNotFoundError",
     "evalue": "[Errno 2] No such file or directory: 'c:\\\\Users\\\\alanj\\\\OneDrive\\\\Documents\\\\git\\\\seisInv\\\\tutorial\\\\40191336\\\\gil7/BK.QRDG.00.10.0000.ZSS'",
     "output_type": "error",
     "traceback": [
      "\u001b[1;31m---------------------------------------------------------------------------\u001b[0m",
      "\u001b[1;31mFileNotFoundError\u001b[0m                         Traceback (most recent call last)",
      "Cell \u001b[1;32mIn[4], line 4\u001b[0m\n\u001b[0;32m      1\u001b[0m \u001b[39m# Pass the parameters to the Inversion object and launch the inversion\u001b[39;00m\n\u001b[0;32m      2\u001b[0m \u001b[39m# The default is to plot all solutions\u001b[39;00m\n\u001b[0;32m      3\u001b[0m tdmt \u001b[39m=\u001b[39m mttime\u001b[39m.\u001b[39mInversion(config\u001b[39m=\u001b[39mconfig)\n\u001b[1;32m----> 4\u001b[0m tdmt\u001b[39m.\u001b[39;49minvert()\n",
      "File \u001b[1;32mc:\\Users\\alanj\\miniconda3\\lib\\site-packages\\mttime\\core\\inversion.py:113\u001b[0m, in \u001b[0;36mInversion.invert\u001b[1;34m(self, show)\u001b[0m\n\u001b[0;32m    111\u001b[0m tensors \u001b[39m=\u001b[39m []\n\u001b[0;32m    112\u001b[0m \u001b[39mfor\u001b[39;00m _depth \u001b[39min\u001b[39;00m \u001b[39mself\u001b[39m\u001b[39m.\u001b[39mconfig\u001b[39m.\u001b[39mdepth:\n\u001b[1;32m--> 113\u001b[0m     \u001b[39mself\u001b[39;49m\u001b[39m.\u001b[39;49m_single_inversion(_depth,tensors)\n\u001b[0;32m    115\u001b[0m \u001b[39m# Get preferred moment tensor solution\u001b[39;00m\n\u001b[0;32m    116\u001b[0m \u001b[39mif\u001b[39;00m \u001b[39mlen\u001b[39m(tensors):\n",
      "File \u001b[1;32mc:\\Users\\alanj\\miniconda3\\lib\\site-packages\\mttime\\core\\inversion.py:143\u001b[0m, in \u001b[0;36mInversion._single_inversion\u001b[1;34m(self, depth, tensors)\u001b[0m\n\u001b[0;32m    130\u001b[0m \u001b[39mdef\u001b[39;00m \u001b[39m_single_inversion\u001b[39m(\u001b[39mself\u001b[39m, depth, tensors):\n\u001b[0;32m    131\u001b[0m     \u001b[39m\"\"\"\u001b[39;00m\n\u001b[0;32m    132\u001b[0m \u001b[39m    Performs a single inversion\u001b[39;00m\n\u001b[0;32m    133\u001b[0m \n\u001b[1;32m   (...)\u001b[0m\n\u001b[0;32m    141\u001b[0m \u001b[39m    :return:\u001b[39;00m\n\u001b[0;32m    142\u001b[0m \u001b[39m    \"\"\"\u001b[39;00m\n\u001b[1;32m--> 143\u001b[0m     \u001b[39mself\u001b[39;49m\u001b[39m.\u001b[39;49m_load_green(depth)\n\u001b[0;32m    144\u001b[0m     \u001b[39mif\u001b[39;00m \u001b[39mself\u001b[39m\u001b[39m.\u001b[39mconfig\u001b[39m.\u001b[39mcorrelate:\n\u001b[0;32m    145\u001b[0m         \u001b[39mself\u001b[39m\u001b[39m.\u001b[39m_correlate()\n",
      "File \u001b[1;32mc:\\Users\\alanj\\miniconda3\\lib\\site-packages\\mttime\\core\\inversion.py:230\u001b[0m, in \u001b[0;36mInversion._load_green\u001b[1;34m(self, depth)\u001b[0m\n\u001b[0;32m    228\u001b[0m \u001b[39m# Call function based on GF format\u001b[39;00m\n\u001b[0;32m    229\u001b[0m call_green_function \u001b[39m=\u001b[39m \u001b[39mgetattr\u001b[39m(\u001b[39mself\u001b[39m, method)\n\u001b[1;32m--> 230\u001b[0m call_green_function(bases, files)\n",
      "File \u001b[1;32mc:\\Users\\alanj\\miniconda3\\lib\\site-packages\\mttime\\core\\inversion.py:304\u001b[0m, in \u001b[0;36mInversion._green_herrmann\u001b[1;34m(self, bases, files)\u001b[0m\n\u001b[0;32m    302\u001b[0m gg \u001b[39m=\u001b[39m np\u001b[39m.\u001b[39mzeros((npts[index], \u001b[39mlen\u001b[39m(cbases)))\n\u001b[0;32m    303\u001b[0m \u001b[39mfor\u001b[39;00m j, basis \u001b[39min\u001b[39;00m \u001b[39menumerate\u001b[39m(cbases):\n\u001b[1;32m--> 304\u001b[0m     gg[:, j] \u001b[39m=\u001b[39m read(\u001b[39m\"\u001b[39;49m\u001b[39m%s\u001b[39;49;00m\u001b[39m.\u001b[39;49m\u001b[39m%s\u001b[39;49;00m\u001b[39m\"\u001b[39;49m \u001b[39m%\u001b[39;49m (file, basis), \u001b[39mformat\u001b[39;49m\u001b[39m=\u001b[39;49m\u001b[39m\"\u001b[39;49m\u001b[39mSAC\u001b[39;49m\u001b[39m\"\u001b[39;49m)[\u001b[39m0\u001b[39m]\u001b[39m.\u001b[39mdata[\u001b[39m0\u001b[39m:npts[index]]\n\u001b[0;32m    306\u001b[0m \u001b[39m# Transform to G\u001b[39;00m\n\u001b[0;32m    307\u001b[0m alpha \u001b[39m=\u001b[39m azimuth[index]\n",
      "File \u001b[1;32mc:\\Users\\alanj\\miniconda3\\lib\\site-packages\\decorator.py:232\u001b[0m, in \u001b[0;36mdecorate.<locals>.fun\u001b[1;34m(*args, **kw)\u001b[0m\n\u001b[0;32m    230\u001b[0m \u001b[39mif\u001b[39;00m \u001b[39mnot\u001b[39;00m kwsyntax:\n\u001b[0;32m    231\u001b[0m     args, kw \u001b[39m=\u001b[39m fix(args, kw, sig)\n\u001b[1;32m--> 232\u001b[0m \u001b[39mreturn\u001b[39;00m caller(func, \u001b[39m*\u001b[39m(extras \u001b[39m+\u001b[39m args), \u001b[39m*\u001b[39m\u001b[39m*\u001b[39mkw)\n",
      "File \u001b[1;32mc:\\Users\\alanj\\miniconda3\\lib\\site-packages\\obspy-1.4.0-py3.10-win-amd64.egg\\obspy\\core\\util\\decorator.py:297\u001b[0m, in \u001b[0;36mmap_example_filename.<locals>._map_example_filename\u001b[1;34m(func, *args, **kwargs)\u001b[0m\n\u001b[0;32m    295\u001b[0m                 \u001b[39mexcept\u001b[39;00m \u001b[39mIOError\u001b[39;00m:\n\u001b[0;32m    296\u001b[0m                     \u001b[39mpass\u001b[39;00m\n\u001b[1;32m--> 297\u001b[0m \u001b[39mreturn\u001b[39;00m func(\u001b[39m*\u001b[39margs, \u001b[39m*\u001b[39m\u001b[39m*\u001b[39mkwargs)\n",
      "File \u001b[1;32mc:\\Users\\alanj\\miniconda3\\lib\\site-packages\\obspy-1.4.0-py3.10-win-amd64.egg\\obspy\\core\\stream.py:208\u001b[0m, in \u001b[0;36mread\u001b[1;34m(pathname_or_url, format, headonly, starttime, endtime, nearest_sample, dtype, apply_calib, check_compression, **kwargs)\u001b[0m\n\u001b[0;32m    206\u001b[0m     st \u001b[39m=\u001b[39m _create_example_stream(headonly\u001b[39m=\u001b[39mheadonly)\n\u001b[0;32m    207\u001b[0m \u001b[39melse\u001b[39;00m:\n\u001b[1;32m--> 208\u001b[0m     st \u001b[39m=\u001b[39m _generic_reader(pathname_or_url, _read, \u001b[39m*\u001b[39m\u001b[39m*\u001b[39mkwargs)\n\u001b[0;32m    210\u001b[0m \u001b[39mif\u001b[39;00m \u001b[39mlen\u001b[39m(st) \u001b[39m==\u001b[39m \u001b[39m0\u001b[39m:\n\u001b[0;32m    211\u001b[0m     \u001b[39m# try to give more specific information why the stream is empty\u001b[39;00m\n\u001b[0;32m    212\u001b[0m     \u001b[39mif\u001b[39;00m has_magic(pathname_or_url) \u001b[39mand\u001b[39;00m \u001b[39mnot\u001b[39;00m glob(pathname_or_url):\n",
      "File \u001b[1;32mc:\\Users\\alanj\\miniconda3\\lib\\site-packages\\obspy-1.4.0-py3.10-win-amd64.egg\\obspy\\core\\util\\base.py:656\u001b[0m, in \u001b[0;36m_generic_reader\u001b[1;34m(pathname_or_url, callback_func, **kwargs)\u001b[0m\n\u001b[0;32m    654\u001b[0m         \u001b[39mraise\u001b[39;00m \u001b[39mException\u001b[39;00m(\u001b[39m\"\u001b[39m\u001b[39mNo file matching file pattern: \u001b[39m\u001b[39m%s\u001b[39;00m\u001b[39m\"\u001b[39m \u001b[39m%\u001b[39m pathname)\n\u001b[0;32m    655\u001b[0m     \u001b[39melif\u001b[39;00m \u001b[39mnot\u001b[39;00m glob\u001b[39m.\u001b[39mhas_magic(pathname) \u001b[39mand\u001b[39;00m \u001b[39mnot\u001b[39;00m Path(pathname)\u001b[39m.\u001b[39mis_file():\n\u001b[1;32m--> 656\u001b[0m         \u001b[39mraise\u001b[39;00m \u001b[39mIOError\u001b[39;00m(\u001b[39m2\u001b[39m, \u001b[39m\"\u001b[39m\u001b[39mNo such file or directory\u001b[39m\u001b[39m\"\u001b[39m, pathname)\n\u001b[0;32m    658\u001b[0m generic \u001b[39m=\u001b[39m callback_func(pathnames[\u001b[39m0\u001b[39m], \u001b[39m*\u001b[39m\u001b[39m*\u001b[39mkwargs)\n\u001b[0;32m    659\u001b[0m \u001b[39mif\u001b[39;00m \u001b[39mlen\u001b[39m(pathnames) \u001b[39m>\u001b[39m \u001b[39m1\u001b[39m:\n",
      "\u001b[1;31mFileNotFoundError\u001b[0m: [Errno 2] No such file or directory: 'c:\\\\Users\\\\alanj\\\\OneDrive\\\\Documents\\\\git\\\\seisInv\\\\tutorial\\\\40191336\\\\gil7/BK.QRDG.00.10.0000.ZSS'"
     ]
    }
   ],
   "source": [
    "# Pass the parameters to the Inversion object and launch the inversion\n",
    "# The default is to plot all solutions\n",
    "tdmt = mttime.Inversion(config=config)\n",
    "tdmt.invert()"
   ]
  },
  {
   "cell_type": "markdown",
   "metadata": {},
   "source": [
    "### Figure options\n",
    " - `view=\"waveform\"` to show the solution and waveform fits.\n",
    " - `view=\"depth\"` to show solution as a function of source depth.\n",
    " - `view=\"map\"` plots solution on a map.\n",
    " - `view=\"lune\"` plots the full moment tensor source-type on a lune."
   ]
  },
  {
   "cell_type": "code",
   "execution_count": null,
   "metadata": {},
   "outputs": [],
   "source": [
    "# To save figure to file set show=False\n",
    "\n",
    "# Plot waveform fits of the best solution (highest VR)\n",
    "tdmt.plot(view=\"waveform\", option=\"preferred\", show=True)\n",
    "tdmt.plot(view=\"depth\", show=True)\n",
    "tdmt.plot(view=\"map\", show=True)"
   ]
  },
  {
   "cell_type": "code",
   "execution_count": null,
   "metadata": {},
   "outputs": [],
   "source": [
    "# Compute full moment tensor and plot the result on the lune.\n",
    "config = mttime.Configure(path_to_file=\"mtinv.in\", degree=6)\n",
    "tdmt = mttime.Inversion(config=config)\n",
    "tdmt.invert()\n",
    "tdmt.plot(view=\"lune\", show=True)"
   ]
  },
  {
   "cell_type": "code",
   "execution_count": null,
   "metadata": {},
   "outputs": [],
   "source": [
    "# Finally save the results to file.\n",
    "# Default is to save all the results\n",
    "tdmt.write()\n",
    "\n",
    "# Setting option to 'preferred' will only save the best solution\n",
    "tdmt.write(option=\"preferred\")"
   ]
  },
  {
   "cell_type": "markdown",
   "metadata": {},
   "source": [
    "# Find the best solution\n",
    "Make some changes to your input file, such as changing the time shifts, removing bad stations, etc. to get a better solution. Check the solution folder ."
   ]
  },
  {
   "cell_type": "code",
   "execution_count": null,
   "metadata": {},
   "outputs": [],
   "source": []
  }
 ],
 "metadata": {
  "jupytext": {
   "formats": "ipynb,py:light"
  },
  "kernelspec": {
   "display_name": "base",
   "language": "python",
   "name": "python3"
  },
  "language_info": {
   "codemirror_mode": {
    "name": "ipython",
    "version": 3
   },
   "file_extension": ".py",
   "mimetype": "text/x-python",
   "name": "python",
   "nbconvert_exporter": "python",
   "pygments_lexer": "ipython3",
   "version": "3.10.9"
  }
 },
 "nbformat": 4,
 "nbformat_minor": 4
}
